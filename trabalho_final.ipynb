{
 "cells": [
  {
   "cell_type": "markdown",
   "metadata": {},
   "source": [
    "# Trabalho Final - Deep Learning\n",
    "\n",
    "### Integrantes:\n",
    "\n",
    "###    1) Jurandir Ventura - RM336634\n",
    "###    2) Marcelo Preto - RM336632\n",
    "###    3) Fabio Rizzi - RM336656\n",
    "###    4) Thiago Alexandre – RM336583"
   ]
  },
  {
   "cell_type": "markdown",
   "metadata": {},
   "source": [
    "# Trabalho Final\n",
    "\n",
    "## Criar um classificador de sentimento aplicando técnicas de PLN\n",
    "\n",
    "Utilizando o dataset de revisões de filmes em português [1], criar um classificador de sentimentos que consiga um score na métrica F1 Score superior a 70%\n",
    "\n",
    "Devem utilizar uma amostra de 20% e randon_state igual a 42 para testar as implementações e mensurar a métrica F1 Score (usar o parâmetro average = 'weighted') o restante dos dados devem ser utilizados para o treinamento (80%). Fique a vontade para testar métodos de pré-processamento, abordagens, algoritmos e bibliotecas, mas explique e justifique suas decisões.\n",
    "\n",
    "O trabalho poderá ser feito em grupo de até 4 pessoas (mesmos grupos do Startup One).\n",
    "\n",
    "[1] - https://dados-ml-pln.s3-sa-east-1.amazonaws.com/imdb-reviews-pt-br.csv"
   ]
  },
  {
   "cell_type": "code",
   "execution_count": 3,
   "metadata": {},
   "outputs": [],
   "source": [
    "import pandas as pd"
   ]
  },
  {
   "cell_type": "code",
   "execution_count": 7,
   "metadata": {},
   "outputs": [
    {
     "output_type": "execute_result",
     "data": {
      "text/plain": "   id                                            text_en  \\\n0   1  Once again Mr. Costner has dragged out a movie...   \n1   2  This is an example of why the majority of acti...   \n2   3  First of all I hate those moronic rappers, who...   \n3   4  Not even the Beatles could write songs everyon...   \n4   5  Brass pictures movies is not a fitting word fo...   \n\n                                             text_pt sentiment  \n0  Mais uma vez, o Sr. Costner arrumou um filme p...       neg  \n1  Este é um exemplo do motivo pelo qual a maiori...       neg  \n2  Primeiro de tudo eu odeio esses raps imbecis, ...       neg  \n3  Nem mesmo os Beatles puderam escrever músicas ...       neg  \n4  Filmes de fotos de latão não é uma palavra apr...       neg  ",
      "text/html": "<div>\n<style scoped>\n    .dataframe tbody tr th:only-of-type {\n        vertical-align: middle;\n    }\n\n    .dataframe tbody tr th {\n        vertical-align: top;\n    }\n\n    .dataframe thead th {\n        text-align: right;\n    }\n</style>\n<table border=\"1\" class=\"dataframe\">\n  <thead>\n    <tr style=\"text-align: right;\">\n      <th></th>\n      <th>id</th>\n      <th>text_en</th>\n      <th>text_pt</th>\n      <th>sentiment</th>\n    </tr>\n  </thead>\n  <tbody>\n    <tr>\n      <th>0</th>\n      <td>1</td>\n      <td>Once again Mr. Costner has dragged out a movie...</td>\n      <td>Mais uma vez, o Sr. Costner arrumou um filme p...</td>\n      <td>neg</td>\n    </tr>\n    <tr>\n      <th>1</th>\n      <td>2</td>\n      <td>This is an example of why the majority of acti...</td>\n      <td>Este é um exemplo do motivo pelo qual a maiori...</td>\n      <td>neg</td>\n    </tr>\n    <tr>\n      <th>2</th>\n      <td>3</td>\n      <td>First of all I hate those moronic rappers, who...</td>\n      <td>Primeiro de tudo eu odeio esses raps imbecis, ...</td>\n      <td>neg</td>\n    </tr>\n    <tr>\n      <th>3</th>\n      <td>4</td>\n      <td>Not even the Beatles could write songs everyon...</td>\n      <td>Nem mesmo os Beatles puderam escrever músicas ...</td>\n      <td>neg</td>\n    </tr>\n    <tr>\n      <th>4</th>\n      <td>5</td>\n      <td>Brass pictures movies is not a fitting word fo...</td>\n      <td>Filmes de fotos de latão não é uma palavra apr...</td>\n      <td>neg</td>\n    </tr>\n  </tbody>\n</table>\n</div>"
     },
     "metadata": {},
     "execution_count": 7
    }
   ],
   "source": [
    "#Leitura do dataset\n",
    "dataset = pd.read_csv('data/imdb-reviews-pt-br.csv', sep=',', engine='python', encoding ='UTF-8' )\n",
    "dataset.head()"
   ]
  },
  {
   "cell_type": "code",
   "execution_count": null,
   "metadata": {},
   "outputs": [],
   "source": []
  }
 ],
 "metadata": {
  "kernelspec": {
   "display_name": "Python 3",
   "language": "python",
   "name": "python3"
  },
  "language_info": {
   "codemirror_mode": {
    "name": "ipython",
    "version": 3
   },
   "file_extension": ".py",
   "mimetype": "text/x-python",
   "name": "python",
   "nbconvert_exporter": "python",
   "pygments_lexer": "ipython3",
   "version": "3.7.6-final"
  }
 },
 "nbformat": 4,
 "nbformat_minor": 4
}